{
 "cells": [
  {
   "cell_type": "code",
   "execution_count": null,
   "id": "60966c89-de41-401e-89fa-bc821fae3b23",
   "metadata": {},
   "outputs": [],
   "source": [
    "import os\n",
    "import sys\n",
    "import os\n",
    "\n",
    "import librosa\n",
    "import librosa.display\n",
    "import matplotlib.pyplot as plt\n",
    "import numpy as np\n",
    "import pyaudio as pa\n",
    "import struct"
   ]
  },
  {
   "cell_type": "code",
   "execution_count": null,
   "id": "524e7684",
   "metadata": {},
   "outputs": [],
   "source": [
    "\n",
    "relative_input_path = \"input-audios/guitar.wav\"\n",
    "input_path = os.path.abspath(os.path.join(os.getcwd(), relative_input_path))"
   ]
  },
  {
   "cell_type": "code",
   "execution_count": null,
   "id": "03cdc1a2",
   "metadata": {},
   "outputs": [],
   "source": [
    "y, sr = librosa.load(input_path)\n",
    "\n",
    "# Compute the Short-Time Fourier Transform (STFT)\n",
    "hop_length = 512  #adustable\n",
    "n_fft = 2048  # adustable\n",
    "stft = librosa.core.stft(y, hop_length=hop_length, n_fft=n_fft)\n",
    "\n",
    "# Convert amplitude to decibels\n",
    "stft_db = librosa.amplitude_to_db(np.abs(stft), ref=np.max)\n",
    "\n",
    "# # Extract time and frequency\n",
    "time_values_float = librosa.times_like(stft)\n",
    "frequency_values_float = librosa.fft_frequencies(sr=sr, n_fft=n_fft)\n",
    "\n",
    "time_values = np.round(time_values_float).astype(int)\n",
    "frequency_values = np.round(frequency_values_float).astype(int)\n",
    "\n",
    "min_frequency = 20\n",
    "max_frequency = 20000\n",
    "\n",
    "frequency_values = np.clip(frequency_values, min_frequency, max_frequency)\n",
    "\n",
    "time_values = np.maximum(time_values, 1)\n",
    "min_length = min(len(time_values), len(frequency_values))\n",
    "time_values = time_values[:min_length]\n",
    "frequency_values = frequency_values[:min_length]\n",
    "\n",
    "print(\"time_values\", time_values)\n",
    "print(\"frequency_values\", frequency_values)\n",
    "print(\"Number of values in time_values:\", len(time_values))\n",
    "print(\"Number of values in frequency_values:\", len(frequency_values))"
   ]
  },
  {
   "cell_type": "code",
   "execution_count": null,
   "id": "badc3b39",
   "metadata": {},
   "outputs": [],
   "source": [
    "import scipy.io.wavfile as wav\n",
    "\n",
    "def interpolate_linearly(wave_table, index):\n",
    "    truncated_index = int(np.floor(index))\n",
    "    next_index = (truncated_index + 1) % wave_table.shape[0]\n",
    "    next_index_weight = index - truncated_index\n",
    "    truncated_index_weight = 1 - next_index_weight\n",
    "    return truncated_index_weight * wave_table[truncated_index] + next_index_weight * wave_table[next_index]\n"
   ]
  },
  {
   "cell_type": "code",
   "execution_count": null,
   "id": "0c1a2227",
   "metadata": {},
   "outputs": [],
   "source": [
    "def fade_in_out(signal, fade_length=1000):\n",
    "    if fade_length > len(signal):\n",
    "        fade_length = len(signal)\n",
    "\n",
    "    fade_in = (1 - np.cos(np.linspace(0, np.pi, fade_length))) * 0.5\n",
    "    fade_out = np.flip(fade_in)\n",
    "\n",
    "    signal[:fade_length] = np.multiply(fade_in, signal[:fade_length])\n",
    "\n",
    "    if len(signal) > fade_length:\n",
    "        signal[-fade_length:] = np.multiply(fade_out, signal[-fade_length:])\n",
    "\n",
    "    return signal"
   ]
  },
  {
   "cell_type": "code",
   "execution_count": null,
   "id": "f0a636d3",
   "metadata": {},
   "outputs": [],
   "source": [
    "def generate_wave_table(wavetable_length):\n",
    "    wave_table = np.zeros((wavetable_length,))\n",
    "    for n in range(wavetable_length):\n",
    "        wave_table[n] = np.sin(2 * np.pi * n / wavetable_length)\n",
    "    return wave_table"
   ]
  },
  {
   "cell_type": "code",
   "execution_count": null,
   "id": "4a6fa7e4",
   "metadata": {},
   "outputs": [],
   "source": [
    "all_fequencies_outputs=[]\n",
    "def wavetable_synthesis(time, frequency, sample_rate):\n",
    "    wavetable_length = 64\n",
    "    output = np.zeros((0,))\n",
    "    wave_table = generate_wave_table(wavetable_length)\n",
    "\n",
    "    \n",
    "    for t, f in zip(time, frequency):\n",
    "        time_value = t\n",
    "        frequency_value = f\n",
    "        waveform = np.sin\n",
    "        \n",
    "        \n",
    "        wave_table = np.zeros((wavetable_length,))\n",
    "        for n in range(wavetable_length):\n",
    "            wave_table[n] = waveform(2* np.pi * n/ wavetable_length )\n",
    "            \n",
    "        output = np.zeros((time_value * sample_rate,))\n",
    "        index = 0\n",
    "        indexIncrement = frequency_value * wavetable_length/ sample_rate\n",
    "        \n",
    "        for n in range(output.shape[0]):\n",
    "            output[n] = interpolate_linearly(wave_table, index)\n",
    "            index += indexIncrement\n",
    "            index %=wavetable_length\n",
    "            \n",
    "        gain = -20\n",
    "        amplitude = 10 ** (gain /20) \n",
    "        output *= amplitude\n",
    "        output = fade_in_out(output)\n",
    "        all_fequencies_outputs.append(output)\n",
    "\n",
    "    return all_fequencies_outputs\n",
    "\n",
    "def main():\n",
    "    sample_rate = 44100\n",
    "\n",
    "    time = time_values\n",
    "    frequency = frequency_values \n",
    "    \n",
    "    outputs = wavetable_synthesis(time, frequency, sample_rate)\n",
    "\n",
    "    for i, output in enumerate(outputs):\n",
    "        print(f\"Output for frequency {frequency[i]} Hz: {output}\")\n",
    "\n",
    "\n",
    "if __name__ == \"__main__\":\n",
    "    main()\n"
   ]
  }
 ],
 "metadata": {
  "kernelspec": {
   "display_name": "Python 3 (ipykernel)",
   "language": "python",
   "name": "python3"
  },
  "language_info": {
   "codemirror_mode": {
    "name": "ipython",
    "version": 3
   },
   "file_extension": ".py",
   "mimetype": "text/x-python",
   "name": "python",
   "nbconvert_exporter": "python",
   "pygments_lexer": "ipython3",
   "version": "3.10.9"
  }
 },
 "nbformat": 4,
 "nbformat_minor": 5
}
